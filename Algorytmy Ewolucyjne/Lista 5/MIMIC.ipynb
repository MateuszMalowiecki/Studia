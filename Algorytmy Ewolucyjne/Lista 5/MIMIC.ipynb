{
 "cells": [
  {
   "cell_type": "code",
   "execution_count": 4,
   "metadata": {},
   "outputs": [],
   "source": [
    "import numpy as np\n",
    "import matplotlib.pyplot as plt"
   ]
  },
  {
   "cell_type": "code",
   "execution_count": 10,
   "metadata": {},
   "outputs": [],
   "source": [
    "def initial_probability_vector(d):\n",
    "    return np.full(d, 0.5)"
   ]
  },
  {
   "cell_type": "code",
   "execution_count": 11,
   "metadata": {},
   "outputs": [],
   "source": [
    "def binary_random(p):\n",
    "    sample=np.random.rand()\n",
    "    if sample < p:\n",
    "        return 1\n",
    "    return 0"
   ]
  },
  {
   "cell_type": "code",
   "execution_count": 12,
   "metadata": {},
   "outputs": [],
   "source": [
    "def random_individual(p_vec):\n",
    "    d = p_vec.size\n",
    "    res=[]\n",
    "    for k in range(d):\n",
    "        res.append(binary_random(p_vec[k]))\n",
    "    return np.array(res)"
   ]
  },
  {
   "cell_type": "code",
   "execution_count": 13,
   "metadata": {},
   "outputs": [
    {
     "data": {
      "text/plain": [
       "array([[0, 0, 1, 0],\n",
       "       [1, 1, 1, 1],\n",
       "       [1, 1, 1, 0],\n",
       "       [0, 0, 0, 0]])"
      ]
     },
     "execution_count": 13,
     "metadata": {},
     "output_type": "execute_result"
    }
   ],
   "source": [
    "def random_population(p_vec, N):\n",
    "    res=[]\n",
    "    for k in range(N):\n",
    "        res.append(random_individual(p_vec))\n",
    "    return np.array(res)\n",
    "random_population(np.array([0.5, 0.5, 0.5, 0.5]), 4)"
   ]
  },
  {
   "cell_type": "code",
   "execution_count": 38,
   "metadata": {},
   "outputs": [],
   "source": [
    "#Entropy of X\n",
    "#TODO: If results will be bad, then think about logarithm base change\n",
    "def variable_entropy(X):\n",
    "    prob_of_one = np.sum(X) / X.size\n",
    "    prob_of_zero = 1 - prob_of_one\n",
    "    return -1 * (prob_of_one * np.log(prob_of_one) + prob_of_zero * np.log(prob_of_zero))"
   ]
  },
  {
   "cell_type": "code",
   "execution_count": 39,
   "metadata": {},
   "outputs": [
    {
     "name": "stdout",
     "output_type": "stream",
     "text": [
      "0.6931471805599453\n"
     ]
    }
   ],
   "source": [
    "def conditional_variable_entropy(Y, X):\n",
    "    prob_of_one = np.sum(X) / X.size\n",
    "    prob_of_zero = 1 -prob_of_one\n",
    "    return (prob_of_one * variable_entropy(Y[np.nonzero(X==1)]) + prob_of_zero * variable_entropy(Y[np.nonzero(X==0)]))\n",
    "X=np.array([0,1,0,1])\n",
    "Y=np.array([0,1,1,0])\n",
    "print(conditional_variable_entropy(Y, X))"
   ]
  },
  {
   "cell_type": "code",
   "execution_count": 40,
   "metadata": {},
   "outputs": [
    {
     "ename": "SyntaxError",
     "evalue": "unexpected EOF while parsing (<ipython-input-40-4c9592280093>, line 2)",
     "output_type": "error",
     "traceback": [
      "\u001b[1;36m  File \u001b[1;32m\"<ipython-input-40-4c9592280093>\"\u001b[1;36m, line \u001b[1;32m2\u001b[0m\n\u001b[1;33m    #TODO\u001b[0m\n\u001b[1;37m         ^\u001b[0m\n\u001b[1;31mSyntaxError\u001b[0m\u001b[1;31m:\u001b[0m unexpected EOF while parsing\n"
     ]
    }
   ],
   "source": [
    "def probs_update():\n",
    "    #TODO"
   ]
  },
  {
   "cell_type": "code",
   "execution_count": null,
   "metadata": {},
   "outputs": [],
   "source": [
    "def MIMIC(iters, d, F, N, percentile):\n",
    "    #TODO"
   ]
  },
  {
   "cell_type": "markdown",
   "metadata": {},
   "source": [
    "## OneMax"
   ]
  },
  {
   "cell_type": "code",
   "execution_count": 14,
   "metadata": {},
   "outputs": [],
   "source": [
    "def one_max(population):\n",
    "    return np.sum(population, 1)"
   ]
  },
  {
   "cell_type": "code",
   "execution_count": null,
   "metadata": {},
   "outputs": [],
   "source": [
    "#TODO: tests"
   ]
  },
  {
   "cell_type": "markdown",
   "metadata": {},
   "source": [
    "## DeceptiveOneMax"
   ]
  },
  {
   "cell_type": "code",
   "execution_count": 15,
   "metadata": {},
   "outputs": [],
   "source": [
    "def deceptive_one_max(population): \n",
    "    res = []\n",
    "    for i in range(len(population)):\n",
    "        if np.any(population[i]):\n",
    "            res.append(np.sum(population[i]))\n",
    "        else:\n",
    "            res.append(population[i].size + 1)\n",
    "    return np.array(res)"
   ]
  },
  {
   "cell_type": "code",
   "execution_count": null,
   "metadata": {},
   "outputs": [],
   "source": [
    "#TODO: tests"
   ]
  },
  {
   "cell_type": "markdown",
   "metadata": {},
   "source": [
    "## KDeceptiveOneMax"
   ]
  },
  {
   "cell_type": "code",
   "execution_count": 16,
   "metadata": {},
   "outputs": [],
   "source": [
    "k=5\n",
    "def k_deceptive_one_max(population): \n",
    "    res = []\n",
    "    for i in range(len(population)):\n",
    "        ith_val=0\n",
    "        for part in range(0, len(population[i]) // k):\n",
    "            if np.any(population[i][part * k : part * k + k]):\n",
    "                ith_val += np.sum(population[i][part * k : part * k + k]) \n",
    "            else:\n",
    "                ith_val += k + 1\n",
    "        res.append(ith_val)\n",
    "    return np.array(res)"
   ]
  },
  {
   "cell_type": "code",
   "execution_count": null,
   "metadata": {},
   "outputs": [],
   "source": [
    "#TODO: tests"
   ]
  }
 ],
 "metadata": {
  "kernelspec": {
   "display_name": "Python 3",
   "language": "python",
   "name": "python3"
  },
  "language_info": {
   "codemirror_mode": {
    "name": "ipython",
    "version": 3
   },
   "file_extension": ".py",
   "mimetype": "text/x-python",
   "name": "python",
   "nbconvert_exporter": "python",
   "pygments_lexer": "ipython3",
   "version": "3.6.3"
  }
 },
 "nbformat": 4,
 "nbformat_minor": 4
}
