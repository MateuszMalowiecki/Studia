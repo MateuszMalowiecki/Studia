{
 "cells": [
  {
   "cell_type": "code",
   "execution_count": 1,
   "metadata": {},
   "outputs": [],
   "source": [
    "import numpy as np"
   ]
  },
  {
   "cell_type": "code",
   "execution_count": 2,
   "metadata": {},
   "outputs": [],
   "source": [
    "def initial_probability_vector(d):\n",
    "    return [0.5]*d"
   ]
  },
  {
   "cell_type": "code",
   "execution_count": 3,
   "metadata": {},
   "outputs": [],
   "source": [
    "def binary_random(p):\n",
    "    sample=np.random.choice(n, 1)\n",
    "    if sample < p:\n",
    "        return 1\n",
    "    return 0"
   ]
  },
  {
   "cell_type": "code",
   "execution_count": 4,
   "metadata": {},
   "outputs": [],
   "source": [
    "def random_individual(p_vec):\n",
    "    res=[]\n",
    "    for k in range(len(p_vec)-1):\n",
    "        res.append(binary_random(p_vec[k]))\n",
    "    return res"
   ]
  },
  {
   "cell_type": "code",
   "execution_count": 5,
   "metadata": {},
   "outputs": [],
   "source": [
    "def random_population(p_vec, N):\n",
    "    res=[]\n",
    "    for k in range(N):\n",
    "        res.append(random_individual(p_vec))\n",
    "    return res"
   ]
  },
  {
   "cell_type": "code",
   "execution_count": 6,
   "metadata": {},
   "outputs": [],
   "source": [
    "def find_best(population, evaluation_result):\n",
    "    return population[np.argmax(evalution_result)]"
   ]
  },
  {
   "cell_type": "code",
   "execution_count": 8,
   "metadata": {},
   "outputs": [],
   "source": [
    "def PBIL(iters, d, F, N, theta1, theta2, theta3):\n",
    "    p_vec=initial_probability_vector(d)\n",
    "    population=random_population(p_vec, N)\n",
    "    evaluation_result=F(population)\n",
    "    for i in range(iters):\n",
    "        best_indvidual=find_best(population, evaluation_result)\n",
    "        for k in range(d):\n",
    "            p_vec[k] = p_vec[k] * (1 - theta1) + best_individual[k] * theta1\n",
    "        for k in range(d):\n",
    "            sample=np.random.choice(n, 1)\n",
    "            if sample < theta2:\n",
    "                p_vec[k] = p_vec[k] * (1 - theta3) + binary_random(0.5) * theta3\n",
    "        population=random_population(p_vec, N)\n",
    "        evaluation_result=F(population)"
   ]
  },
  {
   "cell_type": "code",
   "execution_count": null,
   "metadata": {},
   "outputs": [],
   "source": []
  }
 ],
 "metadata": {
  "kernelspec": {
   "display_name": "Python 3",
   "language": "python",
   "name": "python3"
  },
  "language_info": {
   "codemirror_mode": {
    "name": "ipython",
    "version": 3
   },
   "file_extension": ".py",
   "mimetype": "text/x-python",
   "name": "python",
   "nbconvert_exporter": "python",
   "pygments_lexer": "ipython3",
   "version": "3.6.3"
  }
 },
 "nbformat": 4,
 "nbformat_minor": 4
}
